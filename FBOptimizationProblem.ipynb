{
 "cells": [
  {
   "cell_type": "code",
   "execution_count": 1,
   "metadata": {
    "collapsed": false
   },
   "outputs": [
    {
     "name": "stdout",
     "output_type": "stream",
     "text": [
      "G: 5\n",
      "W: 1\n",
      "M: 100\n",
      "g:  10  w:  50  damage=g*w:  500\n"
     ]
    }
   ],
   "source": [
    "def getDamage(g, G, W, M):\n",
    "    w = (M - g * G) / W\n",
    "    return g * w\n",
    "\n",
    "def optimize(G, W, M):\n",
    "    initialNg = M / (2 * G)    \n",
    "    bestNg = initialNg\n",
    "    bestDamage = getDamage(initialNg, G, W, M)\n",
    "    \n",
    "    # search left\n",
    "    gg = initialNg - 1 \n",
    "    while True:        \n",
    "        dd = getDamage(gg, G, W, M)        \n",
    "        if dd >= bestDamage:\n",
    "            bestDamage = dd\n",
    "            bestNg = gg\n",
    "            gg-=1            \n",
    "        else:\n",
    "            break\n",
    "        \n",
    "    # search right\n",
    "    gg = initialNg + 1  \n",
    "    while True:        \n",
    "        dd = getDamage(gg, G, W, M)        \n",
    "        if dd > bestDamage:\n",
    "            bestDamage = dd\n",
    "            bestNg = gg \n",
    "            gg+=1   \n",
    "        else:            \n",
    "            break\n",
    "       \n",
    "    return bestNg\n",
    "\n",
    "G = int(raw_input(\"G: \"))\n",
    "W = int(raw_input(\"W: \"))\n",
    "M = int(raw_input(\"M: \"))\n",
    "\n",
    "g = optimize(G, W, M)\n",
    "w = (M - g * G) / W \n",
    "totalDamage = getDamage(g, G, W, M)\n",
    "\n",
    "print \"g: \", g, \" w: \", w, \" damage=g*w: \", totalDamage\n",
    "# sample input\n",
    "# G=15, W=10, M=658931394179\n",
    "# expected output\n",
    "# g=21964379805, giving w=32946569710 and objective value gw=723650970382348706550"
   ]
  },
  {
   "cell_type": "markdown",
   "metadata": {
    "collapsed": true
   },
   "source": [
    "g=21964379805, giving w=32946569710 and objective value gw=723650970382348706550"
   ]
  },
  {
   "cell_type": "code",
   "execution_count": null,
   "metadata": {
    "collapsed": true
   },
   "outputs": [],
   "source": []
  }
 ],
 "metadata": {
  "kernelspec": {
   "display_name": "Python 2",
   "language": "python",
   "name": "python2"
  },
  "language_info": {
   "codemirror_mode": {
    "name": "ipython",
    "version": 2
   },
   "file_extension": ".py",
   "mimetype": "text/x-python",
   "name": "python",
   "nbconvert_exporter": "python",
   "pygments_lexer": "ipython2",
   "version": "2.7.12"
  }
 },
 "nbformat": 4,
 "nbformat_minor": 0
}
