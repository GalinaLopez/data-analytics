{
 "cells": [
  {
   "cell_type": "code",
   "execution_count": 9,
   "metadata": {
    "collapsed": false,
    "scrolled": true
   },
   "outputs": [
    {
     "data": {
      "image/png": "[encoded data removed]",
      "text/plain": [
       "<matplotlib.figure.Figure at 0x77f2898>"
      ]
     },
     "metadata": {},
     "output_type": "display_data"
    },
    {
     "data": {
      "image/png": "[encoded data removed]",
      "text/plain": [
       "<matplotlib.figure.Figure at 0x80db6a0>"
      ]
     },
     "metadata": {},
     "output_type": "display_data"
    }
   ],
   "source": [
    "%matplotlib inline\n",
    "\n",
    "import numpy as np\n",
    "import matplotlib.pyplot as plt\n",
    "from numpy import *\n",
    "from matplotlib.pyplot import *\n",
    "\n",
    "\"\"\"\n",
    "x = []\n",
    "y = []\n",
    "for i in range(-4,5):\n",
    "    x.append(i)    \n",
    "    y.append(i*i-1)    \n",
    "\n",
    "plt.plot(x,y,linestyle=\"\",marker=\"o\",color='r')\n",
    "plt.show()\n",
    "\n",
    "x = []\n",
    "y = []\n",
    "for ii in range(-20,21,5):\n",
    "    i = ii/10\n",
    "    x.append(i)\n",
    "    print \n",
    "    y.append(i*(i*i-2.25)*(i-2))\n",
    "\n",
    "plt.plot(x,y,linestyle=\"\",marker=\"o\",color='r')\n",
    "plt.show()\n",
    "\"\"\"\n",
    "\"\"\"\n",
    "x = linspace(-2, 2, 200)\n",
    "y = (x**5 + 4*x**4 + 3*x**3 + 2*x**2 + x + 1)*exp(-x**2)\n",
    "\n",
    "figure()   # Make a new figure\n",
    "plot(x, y)   # Plot some data\n",
    "grid(True)   # Set the thin grid lines\n",
    "show()\n",
    "\"\"\"\n",
    "\n",
    "x = linspace(-2, 4, 200)\n",
    "y = (x**2 - 2*x + 1)\n",
    "\n",
    "figure()   # Make a new figure\n",
    "plot(x, y)   # Plot some data\n",
    "grid(True)   # Set the thin grid lines\n",
    "#xlim(-2,4)   # Specify the range of the x axis shown\n",
    "ylim(-1,6)   # Specify the range of the y axis shown\n",
    "show()\n",
    "\n",
    "x = linspace(-4, 4, 1000)\n",
    "y = (x**4 - 2*x**3 -2.25*x**2 + 4.5*x)\n",
    "\n",
    "figure()   # Make a new figure\n",
    "plot(x, y)   # Plot some data\n",
    "grid(True)   # Set the thin grid lines\n",
    "#xlim(-4,4)   # Specify the range of the x axis shown\n",
    "ylim(-4,4)   # Specify the range of the y axis shown\n",
    "show()\n"
   ]
  },
  {
   "cell_type": "code",
   "execution_count": 23,
   "metadata": {
    "collapsed": false
   },
   "outputs": [
    {
     "name": "stdout",
     "output_type": "stream",
     "text": [
      "x 8\n",
      "49\n",
      "49\n",
      "x 9\n",
      "64\n",
      "x 8\n",
      "49\n",
      "x 6\n",
      "25\n",
      "25\n",
      "x 2\n",
      "1\n",
      "1\n",
      "x 10\n",
      "81\n",
      "x 5\n",
      "16\n",
      "x 3\n",
      "4\n",
      "x 0\n",
      "1\n",
      "x 10\n",
      "81\n",
      "2 1\n"
     ]
    },
    {
     "data": {
      "image/png": "[encoded data removed]",
      "text/plain": [
       "<matplotlib.figure.Figure at 0x6d85e48>"
      ]
     },
     "metadata": {},
     "output_type": "display_data"
    }
   ],
   "source": [
    "import random \n",
    "\n",
    "def random_search():\n",
    "    min_x = 1\n",
    "    min_y = 0\n",
    "    y_diff = 1000\n",
    "    for i in range(10):\n",
    "        x = random.randint(0,10)\n",
    "        print 'x',x\n",
    "        y = (x**2 - 2*x + 1)\n",
    "        print y\n",
    "        plot(x,y, marker='o', color = 'b')\n",
    "        if (y - min_y) < y_diff:\n",
    "            y_diff = y - min_y\n",
    "            print y_diff\n",
    "            best_x = x\n",
    "            best_y = y\n",
    "    \n",
    "    print best_x, best_y\n",
    "    plot(best_x, best_y, marker = 'o', color = 'r')\n",
    "    plot(min_x, min_y, marker = 'o', color = 'g')\n",
    "    ylim(-1, 90)   # Specify the range of the y axis shown\n",
    "    \n",
    "random_search()"
   ]
  },
  {
   "cell_type": "code",
   "execution_count": null,
   "metadata": {
    "collapsed": true
   },
   "outputs": [],
   "source": []
  }
 ],
 "metadata": {
  "anaconda-cloud": {},
  "kernelspec": {
   "display_name": "Python 2",
   "language": "python",
   "name": "python2"
  },
  "language_info": {
   "codemirror_mode": {
    "name": "ipython",
    "version": 2
   },
   "file_extension": ".py",
   "mimetype": "text/x-python",
   "name": "python",
   "nbconvert_exporter": "python",
   "pygments_lexer": "ipython2",
   "version": "2.7.12"
  }
 },
 "nbformat": 4,
 "nbformat_minor": 0
}
